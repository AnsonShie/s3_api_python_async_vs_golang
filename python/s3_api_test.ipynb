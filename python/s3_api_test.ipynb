{
 "cells": [
  {
   "cell_type": "code",
   "execution_count": null,
   "source": [
    "one_mb = 1048576 - 1\n",
    "\n",
    "def gen_10mb_files(count=0):\n",
    "    for i in range(count):\n",
    "        f = open(f\"upload/10mb_file{i}\",\"wb\")\n",
    "        f.seek(one_mb*10)\n",
    "        f.write(b\"\\0\")\n",
    "        f.close()\n",
    "        \n",
    "gen_10mb_files(10000)"
   ],
   "outputs": [],
   "metadata": {}
  },
  {
   "cell_type": "code",
   "execution_count": null,
   "source": [
    "one_gb = 1073741824-1\n",
    "\n",
    "def gen_1gb_files(count=0):\n",
    "    for i in range(count):\n",
    "        f = open(f\"upload/1gb_file{i}\",\"wb\")\n",
    "        f.seek(one_gb*1)\n",
    "        f.write(b\"\\0\")\n",
    "        f.close()\n",
    "\n",
    "gen_1gb_files(100)"
   ],
   "outputs": [],
   "metadata": {}
  },
  {
   "cell_type": "markdown",
   "source": [
    "Reference:\n",
    "https://blog.taiker.space/python-python-boto3-and-aws-s3/\n",
    "https://skonik.me/uploading-large-file-to-s3-using-aiobotocore/\n",
    "https://www.peterbe.com/plog/fastest-way-to-download-a-file-from-s3\n",
    "https://bryson3gps.wordpress.com/2021/04/01/a-quick-look-at-s3-read-speeds-and-python-lambda-functions/\n",
    "https://dashbird.io/blog/aws-s3-python-tricks/\n",
    "\n",
    "https://community.tibco.com/wiki/list-and-download-items-aws-s3-buckets-tibco-spotfirer"
   ],
   "metadata": {}
  },
  {
   "cell_type": "code",
   "execution_count": null,
   "source": [
    "target_bucket = \"test-s3-download-performance\"\n",
    "target_file_prefix = \"upload/10mb_file\"\n",
    "count = 100"
   ],
   "outputs": [],
   "metadata": {}
  },
  {
   "cell_type": "markdown",
   "source": [
    "## Use aioboto3 to upload "
   ],
   "metadata": {}
  },
  {
   "cell_type": "code",
   "execution_count": null,
   "source": [
    "from pprint import pprint\n",
    "import time\n",
    "import boto3\n",
    "import asyncio\n",
    "import aioboto3\n",
    "\n",
    "boto3.setup_default_session(profile_name='dev')\n",
    "\n",
    "async def upload_to_aws(s3, file_path, bucket):\n",
    "    \n",
    "    \n",
    "    try:\n",
    "        await s3.upload_file(file_path, bucket, file_path)\n",
    "        return \"upload successful\"\n",
    "    except Exception as e:\n",
    "        return \"unable upload to s3\" + str(e)\n",
    "\n",
    "async def async_upload_files(file_prefix, bucket, count=0):\n",
    "    events = list()\n",
    "    session = aioboto3.Session()\n",
    "    async with session.client(\"s3\") as s3:\n",
    "        for i in range(count):\n",
    "            events.append(upload_to_aws(s3, f\"{file_prefix}{i}\", bucket))\n",
    "        res = await asyncio.gather(*events)\n",
    "    pprint(res)\n",
    "\n",
    "\n",
    "s = time.perf_counter()\n",
    "await async_upload_files(target_file_prefix, target_bucket, count)\n",
    "elapsed = time.perf_counter() - s\n",
    "print(f\"executed in {elapsed:0.2f} seconds.\")\n"
   ],
   "outputs": [],
   "metadata": {}
  },
  {
   "cell_type": "markdown",
   "source": [
    "# Use aiobotocore to upload"
   ],
   "metadata": {}
  },
  {
   "cell_type": "code",
   "execution_count": null,
   "source": [
    "from pprint import pprint\n",
    "import time\n",
    "import boto3\n",
    "import asyncio\n",
    "from aiobotocore.session import get_session\n",
    "\n",
    "boto3.setup_default_session(profile_name='dev')\n",
    "\n",
    "async def upload_to_aws(s3, file_path, bucket):\n",
    "    try:\n",
    "        with open(file_path, \"rb\") as f:\n",
    "            await s3.put_object(Bucket = bucket, Key = file_path, Body = f)\n",
    "            return \"upload successful\"\n",
    "    except Exception as e:\n",
    "        return \"unable upload to s3\" + str(e)\n",
    "\n",
    "async def async_upload_files(file_prefix, bucket, count=0):\n",
    "    events = list()\n",
    "    session = get_session()\n",
    "    async with session.create_client(\"s3\") as s3:\n",
    "        for i in range(count):\n",
    "            events.append(upload_to_aws(s3, f\"{file_prefix}{i}\", bucket))\n",
    "        res = await asyncio.gather(*events)\n",
    "    pprint(res)\n",
    "\n",
    "\n",
    "s = time.perf_counter()\n",
    "await async_upload_files(target_file_prefix, target_bucket, count)\n",
    "elapsed = time.perf_counter() - s\n",
    "print(f\"executed in {elapsed:0.2f} seconds.\")\n"
   ],
   "outputs": [],
   "metadata": {}
  },
  {
   "cell_type": "markdown",
   "source": [
    "# Use general boto3 for upload"
   ],
   "metadata": {}
  },
  {
   "cell_type": "code",
   "execution_count": null,
   "source": [
    "import time\n",
    "import boto3\n",
    "boto3.setup_default_session(profile_name='dev')\n",
    "\n",
    "\n",
    "def upload_file(s3, file_name, bucket):\n",
    "    \"\"\"Upload a file to an S3 bucket\n",
    "\n",
    "    :param file_name: File to upload\n",
    "    :param bucket: Bucket to upload to\n",
    "    :param object_name: S3 object name. If not specified then file_name is used\n",
    "    :return: True if file was uploaded, else False\n",
    "    \"\"\"\n",
    "    try:\n",
    "        response = s3.upload_file(file_name, bucket, file_name)\n",
    "    except ClientError as e:\n",
    "        print(e)\n",
    "        return False\n",
    "    return True\n",
    "\n",
    "def upload_files(file_prefix, bucket, count=0):\n",
    "    s3 = boto3.client('s3')\n",
    "    for i in range(count):\n",
    "        upload_file(s3, f\"{file_prefix}{i}\", bucket)\n",
    "            \n",
    "s = time.perf_counter()\n",
    "upload_files(target_file_prefix, target_bucket, count)\n",
    "elapsed = time.perf_counter() - s\n",
    "print(f\"executed in {elapsed:0.2f} seconds.\")"
   ],
   "outputs": [],
   "metadata": {}
  }
 ],
 "metadata": {
  "kernelspec": {
   "name": "python3",
   "display_name": "Python 3.9.1 64-bit ('py39t': conda)"
  },
  "language_info": {
   "codemirror_mode": {
    "name": "ipython",
    "version": 3
   },
   "file_extension": ".py",
   "mimetype": "text/x-python",
   "name": "python",
   "nbconvert_exporter": "python",
   "pygments_lexer": "ipython3",
   "version": "3.9.1"
  },
  "interpreter": {
   "hash": "e202e497ea38ef7ee0ab0dc47906bc6811587cd0cb402fa8af1ba2f2779953b4"
  }
 },
 "nbformat": 4,
 "nbformat_minor": 5
}